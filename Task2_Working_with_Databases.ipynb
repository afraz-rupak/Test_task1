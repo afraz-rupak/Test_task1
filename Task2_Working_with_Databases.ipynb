{
  "nbformat": 4,
  "nbformat_minor": 0,
  "metadata": {
    "colab": {
      "provenance": []
    },
    "kernelspec": {
      "name": "python3",
      "display_name": "Python 3"
    },
    "language_info": {
      "name": "python"
    }
  },
  "cells": [
    {
      "cell_type": "markdown",
      "source": [
        "SQLite i can easly do in my colab that why i cooshe it. It is a lightweight and serverless database engine, making it easy to set up and use for small-scale applications. The chosen structure for the 'users' table includes an 'id' (primary key) for unique identification, 'name' to store the user's name, and 'age' to store the user's age. This structure is a simple and common setup for storing user-related information."
      ],
      "metadata": {
        "id": "A74KajxiiOHq"
      }
    },
    {
      "cell_type": "code",
      "execution_count": 1,
      "metadata": {
        "id": "-NXUBrn-Xq-k"
      },
      "outputs": [],
      "source": [
        "import sqlite3\n",
        "\n",
        "# Connect to the SQLite database (or create it if it doesn't exist)\n",
        "conn = sqlite3.connect('sample_db.db')\n",
        "\n",
        "# Create a cursor object to interact with the database\n",
        "cursor = conn.cursor()\n",
        "\n",
        "# Create a table named 'users'\n",
        "cursor.execute('''\n",
        "    CREATE TABLE IF NOT EXISTS users (\n",
        "        id INTEGER PRIMARY KEY,\n",
        "        name TEXT NOT NULL,\n",
        "        age INTEGER\n",
        "    )\n",
        "''')\n",
        "\n",
        "# Commit the changes and close the connection\n",
        "conn.commit()\n",
        "conn.close()\n"
      ]
    },
    {
      "cell_type": "code",
      "source": [
        "def add_user(name, age):\n",
        "    conn = sqlite3.connect('sample_db.db')\n",
        "    cursor = conn.cursor()\n",
        "\n",
        "    # Insert a new user into the 'users' table\n",
        "    cursor.execute('INSERT INTO users (name, age) VALUES (?, ?)', (name, age))\n",
        "\n",
        "    conn.commit()\n",
        "    conn.close()\n",
        "\n",
        "def get_users():\n",
        "    conn = sqlite3.connect('sample_db.db')\n",
        "    cursor = conn.cursor()\n",
        "\n",
        "    # Retrieve all users from the 'users' table\n",
        "    cursor.execute('SELECT * FROM users')\n",
        "    users = cursor.fetchall()\n",
        "\n",
        "    conn.close()\n",
        "\n",
        "    return users\n",
        "\n",
        "def update_user(user_id, new_age):\n",
        "    conn = sqlite3.connect('sample_db.db')\n",
        "    cursor = conn.cursor()\n",
        "\n",
        "    # Update the age of a specific user\n",
        "    cursor.execute('UPDATE users SET age=? WHERE id=?', (new_age, user_id))\n",
        "\n",
        "    conn.commit()\n",
        "    conn.close()\n",
        "\n",
        "def delete_user(user_id):\n",
        "    conn = sqlite3.connect('sample_db.db')\n",
        "    cursor = conn.cursor()\n",
        "\n",
        "    # Delete a user from the 'users' table\n",
        "    cursor.execute('DELETE FROM users WHERE id=?', (user_id,))\n",
        "\n",
        "    conn.commit()\n",
        "    conn.close()\n",
        "\n",
        "# Example usage:\n",
        "add_user('Afraz Ul Haque', 25)\n",
        "add_user('Mirza Sherif', 30)\n",
        "\n",
        "print(\"All Users:\")\n",
        "print(get_users())\n",
        "\n",
        "update_user(1, 26)\n",
        "\n",
        "print(\"\\nUsers after update:\")\n",
        "print(get_users())\n",
        "\n",
        "delete_user(2)\n",
        "\n",
        "print(\"\\nUsers after deletion:\")\n",
        "print(get_users())\n"
      ],
      "metadata": {
        "colab": {
          "base_uri": "https://localhost:8080/"
        },
        "id": "h5LEd-eNXtIP",
        "outputId": "a4453946-a6fd-421c-d92f-8887184ab8bf"
      },
      "execution_count": 2,
      "outputs": [
        {
          "output_type": "stream",
          "name": "stdout",
          "text": [
            "All Users:\n",
            "[(1, 'Afraz Ul Haque', 25), (2, 'Mirza Sherif', 30)]\n",
            "\n",
            "Users after update:\n",
            "[(1, 'Afraz Ul Haque', 26), (2, 'Mirza Sherif', 30)]\n",
            "\n",
            "Users after deletion:\n",
            "[(1, 'Afraz Ul Haque', 26)]\n"
          ]
        }
      ]
    }
  ]
}